{
 "cells": [
  {
   "cell_type": "code",
   "execution_count": 1,
   "metadata": {},
   "outputs": [
    {
     "name": "stdout",
     "output_type": "stream",
     "text": [
      "Requirement already satisfied: whatstk in c:\\users\\suga\\anaconda3\\lib\\site-packages (0.5.0)\n",
      "Requirement already satisfied: emoji==0.6.0 in c:\\users\\suga\\anaconda3\\lib\\site-packages (from whatstk) (0.6.0)\n",
      "Requirement already satisfied: pandas~=1.2.0 in c:\\users\\suga\\anaconda3\\lib\\site-packages (from whatstk) (1.2.5)\n",
      "Requirement already satisfied: numpy~=1.19.1 in c:\\users\\suga\\anaconda3\\lib\\site-packages (from whatstk) (1.19.5)\n",
      "Requirement already satisfied: seaborn==0.11.1 in c:\\users\\suga\\anaconda3\\lib\\site-packages (from whatstk) (0.11.1)\n",
      "Requirement already satisfied: plotly~=4.14.3 in c:\\users\\suga\\anaconda3\\lib\\site-packages (from whatstk) (4.14.3)\n",
      "Requirement already satisfied: certifi==2020.12.5 in c:\\users\\suga\\anaconda3\\lib\\site-packages (from whatstk) (2020.12.5)\n",
      "Requirement already satisfied: pytz>=2017.3 in c:\\users\\suga\\anaconda3\\lib\\site-packages (from pandas~=1.2.0->whatstk) (2019.3)\n",
      "Requirement already satisfied: python-dateutil>=2.7.3 in c:\\users\\suga\\anaconda3\\lib\\site-packages (from pandas~=1.2.0->whatstk) (2.8.1)\n",
      "Requirement already satisfied: scipy>=1.0 in c:\\users\\suga\\anaconda3\\lib\\site-packages (from seaborn==0.11.1->whatstk) (1.4.1)\n",
      "Requirement already satisfied: matplotlib>=2.2 in c:\\users\\suga\\anaconda3\\lib\\site-packages (from seaborn==0.11.1->whatstk) (3.2.2)\n",
      "Requirement already satisfied: retrying>=1.3.3 in c:\\users\\suga\\anaconda3\\lib\\site-packages (from plotly~=4.14.3->whatstk) (1.3.3)\n",
      "Requirement already satisfied: six in c:\\users\\suga\\anaconda3\\lib\\site-packages (from plotly~=4.14.3->whatstk) (1.15.0)\n",
      "Requirement already satisfied: kiwisolver>=1.0.1 in c:\\users\\suga\\anaconda3\\lib\\site-packages (from matplotlib>=2.2->seaborn==0.11.1->whatstk) (1.1.0)\n",
      "Requirement already satisfied: pyparsing!=2.0.4,!=2.1.2,!=2.1.6,>=2.0.1 in c:\\users\\suga\\anaconda3\\lib\\site-packages (from matplotlib>=2.2->seaborn==0.11.1->whatstk) (2.4.6)\n",
      "Requirement already satisfied: cycler>=0.10 in c:\\users\\suga\\anaconda3\\lib\\site-packages (from matplotlib>=2.2->seaborn==0.11.1->whatstk) (0.10.0)\n",
      "Requirement already satisfied: setuptools in c:\\users\\suga\\anaconda3\\lib\\site-packages (from kiwisolver>=1.0.1->matplotlib>=2.2->seaborn==0.11.1->whatstk) (45.2.0.post20200210)\n",
      "Note: you may need to restart the kernel to use updated packages.\n"
     ]
    }
   ],
   "source": [
    "pip install whatstk"
   ]
  },
  {
   "cell_type": "code",
   "execution_count": null,
   "metadata": {},
   "outputs": [],
   "source": []
  },
  {
   "cell_type": "code",
   "execution_count": 2,
   "metadata": {},
   "outputs": [],
   "source": [
    "from whatstk import WhatsAppChat\n",
    "filepath =\"WhatsApp Chat with Silent gang🔥.txt\"\n",
    "chat = WhatsAppChat.from_source(filepath=filepath)\n",
    "# Chat as Dataframe available in chat.df"
   ]
  },
  {
   "cell_type": "code",
   "execution_count": 3,
   "metadata": {},
   "outputs": [
    {
     "data": {
      "text/html": [
       "<div>\n",
       "<style scoped>\n",
       "    .dataframe tbody tr th:only-of-type {\n",
       "        vertical-align: middle;\n",
       "    }\n",
       "\n",
       "    .dataframe tbody tr th {\n",
       "        vertical-align: top;\n",
       "    }\n",
       "\n",
       "    .dataframe thead th {\n",
       "        text-align: right;\n",
       "    }\n",
       "</style>\n",
       "<table border=\"1\" class=\"dataframe\">\n",
       "  <thead>\n",
       "    <tr style=\"text-align: right;\">\n",
       "      <th></th>\n",
       "      <th>date</th>\n",
       "      <th>username</th>\n",
       "      <th>message</th>\n",
       "    </tr>\n",
       "  </thead>\n",
       "  <tbody>\n",
       "    <tr>\n",
       "      <th>0</th>\n",
       "      <td>2019-12-07 14:41:00</td>\n",
       "      <td>Rajasekar Mama</td>\n",
       "      <td>https://youtu.be/F6DoD7tambU</td>\n",
       "    </tr>\n",
       "    <tr>\n",
       "      <th>1</th>\n",
       "      <td>2019-12-10 20:24:00</td>\n",
       "      <td>Mams❤️</td>\n",
       "      <td>&lt;Media omitted&gt;</td>\n",
       "    </tr>\n",
       "    <tr>\n",
       "      <th>2</th>\n",
       "      <td>2019-12-10 20:24:00</td>\n",
       "      <td>Mams❤️</td>\n",
       "      <td>&lt;Media omitted&gt;</td>\n",
       "    </tr>\n",
       "    <tr>\n",
       "      <th>3</th>\n",
       "      <td>2019-12-10 20:24:00</td>\n",
       "      <td>Mams❤️</td>\n",
       "      <td>&lt;Media omitted&gt;</td>\n",
       "    </tr>\n",
       "    <tr>\n",
       "      <th>4</th>\n",
       "      <td>2019-12-10 20:24:00</td>\n",
       "      <td>Mams❤️</td>\n",
       "      <td>&lt;Media omitted&gt;</td>\n",
       "    </tr>\n",
       "  </tbody>\n",
       "</table>\n",
       "</div>"
      ],
      "text/plain": [
       "                 date        username                       message\n",
       "0 2019-12-07 14:41:00  Rajasekar Mama  https://youtu.be/F6DoD7tambU\n",
       "1 2019-12-10 20:24:00          Mams❤️               <Media omitted>\n",
       "2 2019-12-10 20:24:00          Mams❤️               <Media omitted>\n",
       "3 2019-12-10 20:24:00          Mams❤️               <Media omitted>\n",
       "4 2019-12-10 20:24:00          Mams❤️               <Media omitted>"
      ]
     },
     "execution_count": 3,
     "metadata": {},
     "output_type": "execute_result"
    }
   ],
   "source": [
    "chat.df.head()"
   ]
  },
  {
   "cell_type": "code",
   "execution_count": 4,
   "metadata": {},
   "outputs": [
    {
     "name": "stdout",
     "output_type": "stream",
     "text": [
      "Start date: 2019-12-07 14:41:00\n",
      "End date: 2022-07-19 11:52:00\n"
     ]
    }
   ],
   "source": [
    "print(f\"Start date: {chat.start_date}\\nEnd date: {chat.end_date}\")"
   ]
  },
  {
   "cell_type": "code",
   "execution_count": 5,
   "metadata": {},
   "outputs": [
    {
     "data": {
      "text/plain": [
       "['+91 74834 74675',\n",
       " '+91 82967 76462',\n",
       " '+91 95607 82575',\n",
       " '+91 95666 81419',\n",
       " 'Anish',\n",
       " 'Arun Chinna Mama',\n",
       " 'Bhuvana',\n",
       " 'Inbaraj',\n",
       " 'Kalai',\n",
       " 'Mams❤',\n",
       " 'Mams❤️',\n",
       " 'Nitheesh',\n",
       " 'Priya akka',\n",
       " 'Rajasekar Mama',\n",
       " 'Saraswathi',\n",
       " 'Shanmugapriya',\n",
       " 'Vimal Bro',\n",
       " 'Vishnu']"
      ]
     },
     "execution_count": 5,
     "metadata": {},
     "output_type": "execute_result"
    }
   ],
   "source": [
    "chat.users"
   ]
  },
  {
   "cell_type": "code",
   "execution_count": 5,
   "metadata": {},
   "outputs": [],
   "source": [
    "chat.df.replace(to_replace =\"Mams❤️\",value =\"User1\", inplace=True)\n",
    "chat.df.replace(to_replace =\"Mams❤\",value =\"User1\", inplace=True)\n",
    "chat.df.replace(to_replace =\"+91 82967 76462\",value =\"User2\", inplace=True)\n",
    "chat.df.replace(to_replace =\"+91 95607 82575\",value =\"User3\", inplace=True)\n",
    "chat.df.replace(to_replace =\"+91 74834 74675\",value =\"User4\", inplace=True)\n",
    "chat.df.replace(to_replace =\"+91 95666 81419\",value =\"User5\", inplace=True)\n",
    "chat.df.replace(to_replace =\"Anish\",value =\"User6\", inplace=True)\n",
    "chat.df.replace(to_replace =\"Arun Chinna Mama\",value =\"User6\", inplace=True)\n",
    "chat.df.replace(to_replace =\"Bhuvana\",value =\"User7\", inplace=True)\n",
    "chat.df.replace(to_replace =\"Inbaraj\",value =\"User8\", inplace=True)\n",
    "chat.df.replace(to_replace =\"Kalai\",value =\"User9\", inplace=True)\n",
    "chat.df.replace(to_replace =\"Nitheesh\",value =\"User10\", inplace=True)\n",
    "chat.df.replace(to_replace =\"Priya akka\",value =\"User11\", inplace=True)\n",
    "chat.df.replace(to_replace =\"Rajasekar Mama\",value =\"User12\", inplace=True)\n",
    "chat.df.replace(to_replace =\"Saraswathi\",value =\"User13\", inplace=True)\n",
    "chat.df.replace(to_replace =\"Shanmugapriya\",value =\"User14\", inplace=True)\n",
    "chat.df.replace(to_replace =\"Vimal Bro\",value =\"User15\", inplace=True)\n",
    "chat.df.replace(to_replace =\"Vishnu\",value =\"User16\", inplace=True)\n",
    "\n",
    "\n"
   ]
  },
  {
   "cell_type": "code",
   "execution_count": 6,
   "metadata": {},
   "outputs": [
    {
     "data": {
      "text/plain": [
       "['User1',\n",
       " 'User10',\n",
       " 'User11',\n",
       " 'User12',\n",
       " 'User13',\n",
       " 'User14',\n",
       " 'User15',\n",
       " 'User16',\n",
       " 'User2',\n",
       " 'User3',\n",
       " 'User4',\n",
       " 'User5',\n",
       " 'User6',\n",
       " 'User7',\n",
       " 'User8',\n",
       " 'User9']"
      ]
     },
     "execution_count": 6,
     "metadata": {},
     "output_type": "execute_result"
    }
   ],
   "source": [
    "chat.users"
   ]
  },
  {
   "cell_type": "code",
   "execution_count": null,
   "metadata": {},
   "outputs": [],
   "source": [
    "#>>> chat = chat.rename_users({'Mary': ['Maria', 'Maria2']})\n"
   ]
  },
  {
   "cell_type": "code",
   "execution_count": 7,
   "metadata": {},
   "outputs": [
    {
     "data": {
      "text/html": [
       "<div>\n",
       "<style scoped>\n",
       "    .dataframe tbody tr th:only-of-type {\n",
       "        vertical-align: middle;\n",
       "    }\n",
       "\n",
       "    .dataframe tbody tr th {\n",
       "        vertical-align: top;\n",
       "    }\n",
       "\n",
       "    .dataframe thead th {\n",
       "        text-align: right;\n",
       "    }\n",
       "</style>\n",
       "<table border=\"1\" class=\"dataframe\">\n",
       "  <thead>\n",
       "    <tr style=\"text-align: right;\">\n",
       "      <th></th>\n",
       "      <th>date</th>\n",
       "      <th>message</th>\n",
       "    </tr>\n",
       "    <tr>\n",
       "      <th>username</th>\n",
       "      <th></th>\n",
       "      <th></th>\n",
       "    </tr>\n",
       "  </thead>\n",
       "  <tbody>\n",
       "    <tr>\n",
       "      <th>User9</th>\n",
       "      <td>494</td>\n",
       "      <td>494</td>\n",
       "    </tr>\n",
       "    <tr>\n",
       "      <th>User12</th>\n",
       "      <td>462</td>\n",
       "      <td>462</td>\n",
       "    </tr>\n",
       "    <tr>\n",
       "      <th>User2</th>\n",
       "      <td>429</td>\n",
       "      <td>429</td>\n",
       "    </tr>\n",
       "    <tr>\n",
       "      <th>User1</th>\n",
       "      <td>394</td>\n",
       "      <td>394</td>\n",
       "    </tr>\n",
       "    <tr>\n",
       "      <th>User7</th>\n",
       "      <td>369</td>\n",
       "      <td>369</td>\n",
       "    </tr>\n",
       "    <tr>\n",
       "      <th>User11</th>\n",
       "      <td>366</td>\n",
       "      <td>366</td>\n",
       "    </tr>\n",
       "    <tr>\n",
       "      <th>User6</th>\n",
       "      <td>355</td>\n",
       "      <td>355</td>\n",
       "    </tr>\n",
       "    <tr>\n",
       "      <th>User10</th>\n",
       "      <td>298</td>\n",
       "      <td>298</td>\n",
       "    </tr>\n",
       "    <tr>\n",
       "      <th>User13</th>\n",
       "      <td>240</td>\n",
       "      <td>240</td>\n",
       "    </tr>\n",
       "    <tr>\n",
       "      <th>User4</th>\n",
       "      <td>195</td>\n",
       "      <td>195</td>\n",
       "    </tr>\n",
       "    <tr>\n",
       "      <th>User8</th>\n",
       "      <td>194</td>\n",
       "      <td>194</td>\n",
       "    </tr>\n",
       "    <tr>\n",
       "      <th>User15</th>\n",
       "      <td>182</td>\n",
       "      <td>182</td>\n",
       "    </tr>\n",
       "    <tr>\n",
       "      <th>User14</th>\n",
       "      <td>181</td>\n",
       "      <td>181</td>\n",
       "    </tr>\n",
       "    <tr>\n",
       "      <th>User3</th>\n",
       "      <td>138</td>\n",
       "      <td>138</td>\n",
       "    </tr>\n",
       "    <tr>\n",
       "      <th>User16</th>\n",
       "      <td>113</td>\n",
       "      <td>113</td>\n",
       "    </tr>\n",
       "    <tr>\n",
       "      <th>User5</th>\n",
       "      <td>15</td>\n",
       "      <td>15</td>\n",
       "    </tr>\n",
       "  </tbody>\n",
       "</table>\n",
       "</div>"
      ],
      "text/plain": [
       "          date  message\n",
       "username               \n",
       "User9      494      494\n",
       "User12     462      462\n",
       "User2      429      429\n",
       "User1      394      394\n",
       "User7      369      369\n",
       "User11     366      366\n",
       "User6      355      355\n",
       "User10     298      298\n",
       "User13     240      240\n",
       "User4      195      195\n",
       "User8      194      194\n",
       "User15     182      182\n",
       "User14     181      181\n",
       "User3      138      138\n",
       "User16     113      113\n",
       "User5       15       15"
      ]
     },
     "execution_count": 7,
     "metadata": {},
     "output_type": "execute_result"
    }
   ],
   "source": [
    "chat.df.groupby('username').agg('count').sort_values(by='message', ascending=False)"
   ]
  },
  {
   "cell_type": "code",
   "execution_count": 8,
   "metadata": {},
   "outputs": [
    {
     "data": {
      "text/html": [
       "<div>\n",
       "<style scoped>\n",
       "    .dataframe tbody tr th:only-of-type {\n",
       "        vertical-align: middle;\n",
       "    }\n",
       "\n",
       "    .dataframe tbody tr th {\n",
       "        vertical-align: top;\n",
       "    }\n",
       "\n",
       "    .dataframe thead th {\n",
       "        text-align: right;\n",
       "    }\n",
       "</style>\n",
       "<table border=\"1\" class=\"dataframe\">\n",
       "  <thead>\n",
       "    <tr style=\"text-align: right;\">\n",
       "      <th></th>\n",
       "      <th>num_messages</th>\n",
       "    </tr>\n",
       "    <tr>\n",
       "      <th>date</th>\n",
       "      <th></th>\n",
       "    </tr>\n",
       "  </thead>\n",
       "  <tbody>\n",
       "    <tr>\n",
       "      <th>2020-01-03 12:45:00</th>\n",
       "      <td>37</td>\n",
       "    </tr>\n",
       "    <tr>\n",
       "      <th>2020-11-07 19:44:00</th>\n",
       "      <td>24</td>\n",
       "    </tr>\n",
       "    <tr>\n",
       "      <th>2020-01-25 22:41:00</th>\n",
       "      <td>20</td>\n",
       "    </tr>\n",
       "    <tr>\n",
       "      <th>2020-01-06 11:51:00</th>\n",
       "      <td>17</td>\n",
       "    </tr>\n",
       "    <tr>\n",
       "      <th>2020-10-17 16:38:00</th>\n",
       "      <td>16</td>\n",
       "    </tr>\n",
       "    <tr>\n",
       "      <th>...</th>\n",
       "      <td>...</td>\n",
       "    </tr>\n",
       "    <tr>\n",
       "      <th>2020-05-16 23:00:00</th>\n",
       "      <td>1</td>\n",
       "    </tr>\n",
       "    <tr>\n",
       "      <th>2020-05-17 15:21:00</th>\n",
       "      <td>1</td>\n",
       "    </tr>\n",
       "    <tr>\n",
       "      <th>2020-05-17 15:25:00</th>\n",
       "      <td>1</td>\n",
       "    </tr>\n",
       "    <tr>\n",
       "      <th>2020-05-17 15:27:00</th>\n",
       "      <td>1</td>\n",
       "    </tr>\n",
       "    <tr>\n",
       "      <th>2022-07-19 11:52:00</th>\n",
       "      <td>1</td>\n",
       "    </tr>\n",
       "  </tbody>\n",
       "</table>\n",
       "<p>3223 rows × 1 columns</p>\n",
       "</div>"
      ],
      "text/plain": [
       "                     num_messages\n",
       "date                             \n",
       "2020-01-03 12:45:00            37\n",
       "2020-11-07 19:44:00            24\n",
       "2020-01-25 22:41:00            20\n",
       "2020-01-06 11:51:00            17\n",
       "2020-10-17 16:38:00            16\n",
       "...                           ...\n",
       "2020-05-16 23:00:00             1\n",
       "2020-05-17 15:21:00             1\n",
       "2020-05-17 15:25:00             1\n",
       "2020-05-17 15:27:00             1\n",
       "2022-07-19 11:52:00             1\n",
       "\n",
       "[3223 rows x 1 columns]"
      ]
     },
     "execution_count": 8,
     "metadata": {},
     "output_type": "execute_result"
    }
   ],
   "source": [
    "chat.df.groupby(chat.df.date).agg(num_messages=('message', 'count')).sort_values(by='num_messages', ascending=False)\n"
   ]
  },
  {
   "cell_type": "code",
   "execution_count": 9,
   "metadata": {},
   "outputs": [],
   "source": [
    "# Number of messages sent\n",
    "from whatstk import FigureBuilder\n",
    "from plotly.offline import plot\n",
    "fb = FigureBuilder(chat=chat)\n",
    "fig = fb.user_interventions_count_linechart(cumulative=True, title='User inteventions count (cumulative)')\n"
   ]
  },
  {
   "cell_type": "code",
   "execution_count": 11,
   "metadata": {},
   "outputs": [
    {
     "data": {
      "text/plain": [
       "'temp-plot.html'"
      ]
     },
     "execution_count": 11,
     "metadata": {},
     "output_type": "execute_result"
    }
   ],
   "source": [
    "# the number of messages sent per user in a day\n",
    "plot(fig)"
   ]
  },
  {
   "cell_type": "code",
   "execution_count": 12,
   "metadata": {},
   "outputs": [
    {
     "data": {
      "text/plain": [
       "'temp-plot.html'"
      ]
     },
     "execution_count": 12,
     "metadata": {},
     "output_type": "execute_result"
    }
   ],
   "source": [
    "#the counts for all users \n",
    "fig = fb.user_interventions_count_linechart(cumulative=True, all_users=True, title='Inteventions count (cumulative)')\n",
    "plot(fig)"
   ]
  },
  {
   "cell_type": "code",
   "execution_count": 13,
   "metadata": {},
   "outputs": [
    {
     "data": {
      "text/plain": [
       "'temp-plot.html'"
      ]
     },
     "execution_count": 13,
     "metadata": {},
     "output_type": "execute_result"
    }
   ],
   "source": [
    "# Count of characters sent per user\n",
    "fig = fb.user_interventions_count_linechart(cumulative=True, msg_length=True, title='Count of sent characters (cumulative)')\n",
    "plot(fig)"
   ]
  },
  {
   "cell_type": "code",
   "execution_count": 15,
   "metadata": {},
   "outputs": [
    {
     "data": {
      "text/plain": [
       "'temp-plot.html'"
      ]
     },
     "execution_count": 15,
     "metadata": {},
     "output_type": "execute_result"
    }
   ],
   "source": [
    "# user interventions over the 24 hours in a day\n",
    "fig = fb.user_interventions_count_linechart(date_mode='hour', title='User interventions count (hour)',\n",
    "xlabel='Hour')\n",
    "plot(fig)"
   ]
  },
  {
   "cell_type": "code",
   "execution_count": 16,
   "metadata": {},
   "outputs": [
    {
     "data": {
      "text/plain": [
       "'temp-plot.html'"
      ]
     },
     "execution_count": 16,
     "metadata": {},
     "output_type": "execute_result"
    }
   ],
   "source": [
    "# user interventions weekly\n",
    "fig = fb.user_interventions_count_linechart(date_mode='weekday', title='User interventions count (Weekday)',\n",
    "xlabel='weekday')\n",
    "plot(fig)"
   ]
  },
  {
   "cell_type": "code",
   "execution_count": 17,
   "metadata": {},
   "outputs": [
    {
     "data": {
      "text/plain": [
       "'temp-plot.html'"
      ]
     },
     "execution_count": 17,
     "metadata": {},
     "output_type": "execute_result"
    }
   ],
   "source": [
    "#user interventions over the 12 months of the year\n",
    "fig = fb.user_interventions_count_linechart(date_mode='month', title='User interventions count (month)',\n",
    "xlabel='month')\n",
    "plot(fig)"
   ]
  },
  {
   "cell_type": "code",
   "execution_count": null,
   "metadata": {},
   "outputs": [],
   "source": []
  },
  {
   "cell_type": "code",
   "execution_count": 20,
   "metadata": {},
   "outputs": [
    {
     "data": {
      "text/plain": [
       "'temp-plot.html'"
      ]
     },
     "execution_count": 20,
     "metadata": {},
     "output_type": "execute_result"
    }
   ],
   "source": [
    "fig = fb.user_msg_length_boxplot()\n",
    "plot(fig)"
   ]
  },
  {
   "cell_type": "code",
   "execution_count": 21,
   "metadata": {},
   "outputs": [
    {
     "data": {
      "text/plain": [
       "'temp-plot.html'"
      ]
     },
     "execution_count": 21,
     "metadata": {},
     "output_type": "execute_result"
    }
   ],
   "source": [
    "fig = fb.user_message_responses_heatmap()\n",
    "plot(fig)"
   ]
  },
  {
   "cell_type": "code",
   "execution_count": 22,
   "metadata": {},
   "outputs": [
    {
     "data": {
      "text/plain": [
       "'temp-plot.html'"
      ]
     },
     "execution_count": 22,
     "metadata": {},
     "output_type": "execute_result"
    }
   ],
   "source": [
    "fig = fb.user_message_responses_flow()\n",
    "plot(fig)"
   ]
  },
  {
   "cell_type": "code",
   "execution_count": null,
   "metadata": {},
   "outputs": [],
   "source": []
  }
 ],
 "metadata": {
  "kernelspec": {
   "display_name": "Python 3",
   "language": "python",
   "name": "python3"
  },
  "language_info": {
   "codemirror_mode": {
    "name": "ipython",
    "version": 3
   },
   "file_extension": ".py",
   "mimetype": "text/x-python",
   "name": "python",
   "nbconvert_exporter": "python",
   "pygments_lexer": "ipython3",
   "version": "3.7.6"
  }
 },
 "nbformat": 4,
 "nbformat_minor": 4
}
